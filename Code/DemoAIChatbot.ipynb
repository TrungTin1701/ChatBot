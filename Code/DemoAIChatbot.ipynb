{
  "cells": [
    {
      "cell_type": "code",
      "execution_count": null,
      "metadata": {
        "colab": {
          "base_uri": "https://localhost:8080/"
        },
        "id": "sRcGzJNk2oof",
        "outputId": "5ccf822d-dc1b-4361-895f-035c9c530d0a"
      },
      "outputs": [
        {
          "name": "stdout",
          "output_type": "stream",
          "text": [
            "Looking in indexes: https://pypi.org/simple, https://us-python.pkg.dev/colab-wheels/public/simple/\n",
            "Collecting tflearn\n",
            "  Downloading tflearn-0.5.0.tar.gz (107 kB)\n",
            "\u001b[?25l\r\u001b[K     |███                             | 10 kB 27.5 MB/s eta 0:00:01\r\u001b[K     |██████                          | 20 kB 35.7 MB/s eta 0:00:01\r\u001b[K     |█████████▏                      | 30 kB 44.7 MB/s eta 0:00:01\r\u001b[K     |████████████▏                   | 40 kB 38.3 MB/s eta 0:00:01\r\u001b[K     |███████████████▎                | 51 kB 42.9 MB/s eta 0:00:01\r\u001b[K     |██████████████████▎             | 61 kB 47.8 MB/s eta 0:00:01\r\u001b[K     |█████████████████████▍          | 71 kB 27.9 MB/s eta 0:00:01\r\u001b[K     |████████████████████████▍       | 81 kB 30.1 MB/s eta 0:00:01\r\u001b[K     |███████████████████████████▌    | 92 kB 32.1 MB/s eta 0:00:01\r\u001b[K     |██████████████████████████████▌ | 102 kB 34.4 MB/s eta 0:00:01\r\u001b[K     |████████████████████████████████| 107 kB 34.4 MB/s \n",
            "\u001b[?25hRequirement already satisfied: numpy in /usr/local/lib/python3.8/dist-packages (from tflearn) (1.21.6)\n",
            "Requirement already satisfied: six in /usr/local/lib/python3.8/dist-packages (from tflearn) (1.15.0)\n",
            "Requirement already satisfied: Pillow in /usr/local/lib/python3.8/dist-packages (from tflearn) (7.1.2)\n",
            "Building wheels for collected packages: tflearn\n",
            "  Building wheel for tflearn (setup.py) ... \u001b[?25l\u001b[?25hdone\n",
            "  Created wheel for tflearn: filename=tflearn-0.5.0-py3-none-any.whl size=127299 sha256=3ef6fa9b0bd109d714b7c0d5084c4aa0e8d62cff713485c30fd10a7bc15af43c\n",
            "  Stored in directory: /root/.cache/pip/wheels/65/9b/15/cb1e6b279c14ed897530d15cfd7da8e3df8a947e593f5cfe59\n",
            "Successfully built tflearn\n",
            "Installing collected packages: tflearn\n",
            "Successfully installed tflearn-0.5.0\n"
          ]
        }
      ],
      "source": []
    },
    {
      "cell_type": "code",
      "execution_count": 5,
      "metadata": {
        "colab": {
          "base_uri": "https://localhost:8080/"
        },
        "id": "3cx6-dax2QSd",
        "outputId": "5c633ffb-89d5-4506-c100-9cd68daf13ea"
      },
      "outputs": [
        {
          "name": "stderr",
          "output_type": "stream",
          "text": [
            "[nltk_data] Downloading package punkt to C:\\Users\\Trung\n",
            "[nltk_data]     Tin\\AppData\\Roaming\\nltk_data...\n",
            "[nltk_data]   Package punkt is already up-to-date!\n"
          ]
        },
        {
          "name": "stdout",
          "output_type": "stream",
          "text": [
            "WARNING:tensorflow:From c:\\Users\\Trung Tin\\AppData\\Local\\Programs\\Python\\Python310\\lib\\site-packages\\tensorflow\\python\\compat\\v2_compat.py:107: disable_resource_variables (from tensorflow.python.ops.variable_scope) is deprecated and will be removed in a future version.\n",
            "Instructions for updating:\n",
            "non-resource variables are not supported in the long term\n",
            "curses is not supported on this machine (please install/reinstall curses for an optimal experience)\n",
            "Scipy not supported!\n"
          ]
        }
      ],
      "source": [
        "# Importing Libraries required for NLP\n",
        "import nltk\n",
        "nltk.download(\"punkt\")\n",
        "from nltk.stem.lancaster import LancasterStemmer\n",
        "stemmer = LancasterStemmer()\n",
        "\n",
        "# Importing Libraries needed for Tensorflow processing\n",
        "import tensorflow as tf  \n",
        "import numpy as np\n",
        "import tflearn         \n",
        "import random\n",
        "import json"
      ]
    },
    {
      "cell_type": "code",
      "execution_count": 6,
      "metadata": {
        "id": "Ziiuv70Y2T7i"
      },
      "outputs": [],
      "source": [
        "with open(\"intents.json\") as json_data: \n",
        "    intents = json.load(json_data)     "
      ]
    },
    {
      "cell_type": "code",
      "execution_count": 7,
      "metadata": {
        "id": "vXAzbv7P3l9P"
      },
      "outputs": [],
      "source": [
        "words=[]\n",
        "documents = []\n",
        "classes = []\n",
        "\n",
        "\n",
        "# This list will be used for ignoring all unwanted punctuation marks.\n",
        "ignore = [\"?\"]\n",
        "\n",
        "# Starting a loop through each intent in intents[\"patterns\"]\n",
        "for intent in intents[\"intents\"]:\n",
        "    for pattern in intent[\"patterns\"]:\n",
        "        \n",
        "        # tokenizing each and every word in the sentence by using word tokenizer and storing in w\n",
        "        w = nltk.word_tokenize(pattern) \n",
        "        #print(w)\n",
        "        \n",
        "        # Adding tokenized words to words empty list that we created\n",
        "        words.extend(w) \n",
        "        #print(words)\n",
        "        \n",
        "        # Adding words to documents with tag given in intents file\n",
        "        documents.append((w, intent[\"tag\"]))\n",
        "        #print(documents)\n",
        "        \n",
        "        # Adding only tag to our classes list\n",
        "        if intent[\"tag\"] not in classes:      \n",
        "            classes.append(intent[\"tag\"])  #If tag is not present in classes[] then it will append into it.\n",
        "            #print(classes)"
      ]
    },
    {
      "cell_type": "code",
      "execution_count": null,
      "metadata": {
        "colab": {
          "base_uri": "https://localhost:8080/"
        },
        "id": "0EY4aMGD3q4Q",
        "outputId": "e37d28a9-467d-45d1-96d6-35dabeba0064"
      },
      "outputs": [
        {
          "name": "stdout",
          "output_type": "stream",
          "text": [
            "106 Documents \n",
            "\n",
            "37 Classes \n",
            "\n",
            "118 Stemmed Words \n"
          ]
        }
      ],
      "source": [
        "#Performing Stemming by using stemmer.stem() nd lower each word \n",
        "#Running loop in words[] and ignoring punctuation marks present in ignore[]\n",
        "\n",
        "words = [stemmer.stem(w.lower()) for w in words if w not in ignore]  \n",
        "words = sorted(list(set(words)))  #Removing Duplicates in words[]\n",
        "\n",
        "#Removing Duplicate Classes\n",
        "classes = sorted(list(set(classes)))\n",
        "\n",
        "#Printing length of lists we formed\n",
        "print(len(documents),\"Documents \\n\")\n",
        "print(len(classes),\"Classes \\n\")\n",
        "print(len(words), \"Stemmed Words \")"
      ]
    },
    {
      "cell_type": "code",
      "execution_count": null,
      "metadata": {
        "id": "JVVFFrgQ3z3w"
      },
      "outputs": [],
      "source": [
        "#Creating Training Data which will be furthur used for training\n",
        "training = []\n",
        "output = []\n",
        "\n",
        "#Creating empty array for output\n",
        "output_empty = [0] * len(classes)\n",
        "\n",
        "#Creating Training set and bag of words for each sentence\n",
        "for doc in documents:\n",
        "    bag = [] #Initialising empty bag of words\n",
        "\n",
        "    pattern_words = doc[0] #Storing list of tokenized words for the documents[] tp pattern_words\n",
        "    #print(pattern_words)\n",
        "    \n",
        "    #Again Stemming each word from pattern_words\n",
        "    pattern_words = [stemmer.stem(word.lower()) for word in pattern_words]  \n",
        "    #print(pattern_words)\n",
        "    \n",
        "    #Creating bag of words array\n",
        "    for w in words:\n",
        "        bag.append(1) if w in pattern_words else bag.append(0)\n",
        "        \n",
        "    #It will give output 1 for curent tag and 0 for all other tags\n",
        "    output_row = list(output_empty)\n",
        "    output_row[classes.index(doc[1])] =1 \n",
        "    training.append([bag, output_row])"
      ]
    },
    {
      "cell_type": "code",
      "execution_count": null,
      "metadata": {
        "id": "6d-p4EIA34ns"
      },
      "outputs": [],
      "source": [
        "random.shuffle(training) #Suffling the data or features\n",
        "training = np.array(training) #Converting training data into numpy array\n",
        "\n",
        "#Creating Training Lists\n",
        "train_x = list(training[:,0])\n",
        "train_y = list(training[:,1])"
      ]
    },
    {
      "cell_type": "code",
      "execution_count": null,
      "metadata": {
        "id": "W-icL8_74I09"
      },
      "outputs": [],
      "source": [
        "!pip install tensorflow"
      ]
    },
    {
      "cell_type": "code",
      "execution_count": null,
      "metadata": {
        "colab": {
          "base_uri": "https://localhost:8080/"
        },
        "id": "bD1Odt-e36RR",
        "outputId": "81f5ac80-392c-4566-9ccb-5d90bb0deb67"
      },
      "outputs": [
        {
          "name": "stdout",
          "output_type": "stream",
          "text": [
            "Training Step: 13999  | total loss: \u001b[1m\u001b[32m0.00011\u001b[0m\u001b[0m | time: 0.034s\n",
            "| Adam | epoch: 1000 | loss: 0.00011 - acc: 1.0000 -- iter: 104/106\n",
            "Training Step: 14000  | total loss: \u001b[1m\u001b[32m0.00012\u001b[0m\u001b[0m | time: 0.036s\n",
            "| Adam | epoch: 1000 | loss: 0.00012 - acc: 1.0000 -- iter: 106/106\n",
            "--\n"
          ]
        }
      ],
      "source": [
        "tf.compat.v1.reset_default_graph()\n",
        "\n",
        "#Building our own Neural Network\n",
        "net = tflearn.input_data(shape=[None, len(train_x[0])])\n",
        "net = tflearn.fully_connected(net, 10)\n",
        "net = tflearn.fully_connected(net, 10)\n",
        "net = tflearn.fully_connected(net, len(train_y[0]), activation=\"softmax\")\n",
        "net = tflearn.regression(net)\n",
        "\n",
        "#Defining Model and setting up tensorboard\n",
        "model = tflearn.DNN(net, tensorboard_dir=\"tflearn_logs\") \n",
        "\n",
        "#Now we have setup model, now we need to train that model by fitting data into it by model.fit()\n",
        "#n_epoch is the number of times that model will se our data during training\n",
        "model.fit(train_x, train_y, n_epoch=1000, batch_size=8, show_metric=True) \n",
        "model.save(\"model.tflearn\") #Saving the model"
      ]
    },
    {
      "cell_type": "code",
      "execution_count": null,
      "metadata": {
        "id": "2n15lLMA7qlM"
      },
      "outputs": [],
      "source": [
        "#Importing pickle module\n",
        "import pickle\n",
        "\n",
        "#Dumping training data by using dump() and writing it into training_data in binary mode\n",
        "pickle.dump({\"words\":words, \"classes\":classes, \"train_x\":train_x, \"train_y\":train_y}, open(\"training_data\", \"wb\"))"
      ]
    },
    {
      "cell_type": "code",
      "execution_count": null,
      "metadata": {
        "id": "qsYQjA_I7tMX"
      },
      "outputs": [],
      "source": [
        "data = pickle.load(open(\"training_data\",\"rb\"))\n",
        "words = data['words']\n",
        "classes = data['classes']\n",
        "train_x = data['train_x']\n",
        "train_y = data['train_y']"
      ]
    },
    {
      "cell_type": "code",
      "execution_count": null,
      "metadata": {
        "id": "5Vb5lV8r7x6-"
      },
      "outputs": [],
      "source": [
        "with open(\"/content/drive/MyDrive/AI/intents.json\") as json_data:\n",
        "    intents = json.load(json_data)  #Loading our json_data"
      ]
    },
    {
      "cell_type": "code",
      "execution_count": null,
      "metadata": {
        "id": "Wy6Td0sI77L5"
      },
      "outputs": [],
      "source": [
        "\n",
        "# Loading the saved model\n",
        "model.load(\"./model.tflearn\") #Loading training model which we saved"
      ]
    },
    {
      "cell_type": "code",
      "execution_count": null,
      "metadata": {
        "id": "qKjo5Vqx7-ZP"
      },
      "outputs": [],
      "source": [
        "#Cleaning User Input\n",
        "def clean_up_sentence(sentence):\n",
        "    \n",
        "    # Tokenizing the pattern\n",
        "    sentence_words = nltk.word_tokenize(sentence) #Again tokenizing the sentence\n",
        "    \n",
        "    #Stemming each word from the user's input\n",
        "    sentence_words= [stemmer.stem(word.lower()) for word in sentence_words]\n",
        "\n",
        "    return sentence_words\n",
        "\n",
        "#Returning bag of words array: 0 or 1 or each word in the bag that exists in as we have declared in above lines\n",
        "def bow(sentence, words, show_details=False):\n",
        "    \n",
        "    #Tokenizing the user input\n",
        "    sentence_words = clean_up_sentence(sentence)\n",
        "    \n",
        "    #Generating bag of words from the sentence that user entered\n",
        "    bag = [0]*len(words)\n",
        "    for s in sentence_words:\n",
        "        for i,w in enumerate(words):\n",
        "            if w == s:\n",
        "                bag[i] = 1\n",
        "                if show_details:\n",
        "                    print(\"Found in bag: %s\"% w)\n",
        "\n",
        "    return(np.array(bag))"
      ]
    },
    {
      "cell_type": "code",
      "execution_count": null,
      "metadata": {
        "id": "D9Sn9Um48Du4"
      },
      "outputs": [],
      "source": [
        "#Adding some context to the conversation for better results.\n",
        "\n",
        "context = {} #Create a dictionary to hold user's context\n",
        "\n",
        "ERROR_THRESHOLD = 0.25\n",
        "def classify(sentence):\n",
        "    \n",
        "    #Generating probabilities from the model\n",
        "    results = model.predict([bow(sentence, words)])[0]\n",
        "    \n",
        "    #Filter out predictions below a threshold\n",
        "    results = [[i,r] for i,r in enumerate(results) if r>ERROR_THRESHOLD]\n",
        "    \n",
        "    #Sorting by strength of probability\n",
        "    results.sort(key=lambda x: x[1], reverse=True)\n",
        "    return_list = []\n",
        "    for r in results:\n",
        "        return_list.append((classes[r[0]], r[1]))\n",
        "    \n",
        "    # return tuple of intent and probability\n",
        "    return return_list\n",
        "\n",
        "def response(sentence, userID='123', show_details=False):\n",
        "    results = classify(sentence)\n",
        "    \n",
        "    #If we have a classification then find the matching intent tag\n",
        "    if results:\n",
        "        \n",
        "        #Loop as long as there are matches to process\n",
        "        while results:\n",
        "            for i in intents['intents']:\n",
        "                \n",
        "                #Find a tag matching the first result\n",
        "                if i['tag'] == results[0][0]:\n",
        "                    \n",
        "                    #Set context for this intent if necessary\n",
        "                    if 'context_set' in i:\n",
        "                        if show_details: print ('context:', i['context_set'])\n",
        "                        context[userID] = i['context_set']\n",
        "\n",
        "                    # check if this intent is contextual and applies to this user's conversation\n",
        "                    if not 'context_filter' in i or \\\n",
        "                        (userID in context and 'context_filter' in i and i['context_filter'] == context[userID]):\n",
        "                        if show_details: print ('tag:', i['tag'])\n",
        "                        \n",
        "                        #A random response from the intent\n",
        "                        return print(random.choice(i['responses']))\n",
        "\n",
        "            results.pop(0)"
      ]
    },
    {
      "cell_type": "code",
      "execution_count": null,
      "metadata": {
        "colab": {
          "base_uri": "https://localhost:8080/"
        },
        "id": "IFd1DMqP8FIW",
        "outputId": "acec0ed7-5171-4d35-ed2b-e50db90bbad7"
      },
      "outputs": [
        {
          "name": "stdout",
          "output_type": "stream",
          "text": [
            "A Firewall is a network security system set on the boundaries of the system/network that monitors and controls network traffic. Firewalls are mainly used to protect the system/network from viruses, worms, malware, etc. Firewalls can also be to prevent remote access and content filtering.\n"
          ]
        }
      ],
      "source": [
        "response(\"what is Firewall\")\n"
      ]
    },
    {
      "cell_type": "code",
      "execution_count": null,
      "metadata": {
        "colab": {
          "base_uri": "https://localhost:8080/"
        },
        "id": "J1GfOwvZ8Y-H",
        "outputId": "e7f84b6c-5080-4044-ddaf-fdf67372efd9"
      },
      "outputs": [
        {
          "name": "stdout",
          "output_type": "stream",
          "text": [
            "Hello, thanks for visiting\n"
          ]
        }
      ],
      "source": [
        "response(\"Hi how are you\")"
      ]
    },
    {
      "cell_type": "code",
      "execution_count": null,
      "metadata": {
        "colab": {
          "base_uri": "https://localhost:8080/"
        },
        "id": "s5cfl0j6BGQd",
        "outputId": "a541561c-3471-4516-d1d1-962e7a3b19e4"
      },
      "outputs": [
        {
          "name": "stdout",
          "output_type": "stream",
          "text": [
            "1.Good Analytics, 2.Coverage of your biggest external threats, 3.A defense against internal threats, 4.Compliance, 5.Manage risk across your entire ecosystem, 6.Threat prevention, detection, and response, 7.Continuous monitoring\n"
          ]
        }
      ],
      "source": [
        "response(\"i wanna cry\")"
      ]
    },
    {
      "cell_type": "code",
      "execution_count": null,
      "metadata": {
        "colab": {
          "base_uri": "https://localhost:8080/"
        },
        "id": "C7k3sWDc65QT",
        "outputId": "5034cd8e-60c3-4918-93a1-48338774421a"
      },
      "outputs": [
        {
          "name": "stdout",
          "output_type": "stream",
          "text": [
            "Any time!\n"
          ]
        }
      ],
      "source": [
        "response(\"thanks\")"
      ]
    },
    {
      "cell_type": "code",
      "execution_count": null,
      "metadata": {
        "colab": {
          "base_uri": "https://localhost:8080/"
        },
        "id": "HrWAg-_vM1Mk",
        "outputId": "67816741-fc13-4f5f-de02-4ecedd736c63"
      },
      "outputs": [
        {
          "name": "stdout",
          "output_type": "stream",
          "text": [
            "Our working hours are 9AM to 9PM every day\n"
          ]
        }
      ],
      "source": [
        "response( \"See you tomorrow\")"
      ]
    },
    {
      "cell_type": "code",
      "execution_count": null,
      "metadata": {
        "colab": {
          "base_uri": "https://localhost:8080/"
        },
        "id": "_MswPtnIgnks",
        "outputId": "0ee6ef1d-b183-467e-8b1a-8ea00c8507d7"
      },
      "outputs": [
        {
          "name": "stdout",
          "output_type": "stream",
          "text": [
            "118\n",
            "Bye! Come back again soon.\n"
          ]
        }
      ],
      "source": [
        "response(\"bye\")"
      ]
    },
    {
      "cell_type": "code",
      "execution_count": null,
      "metadata": {
        "colab": {
          "base_uri": "https://localhost:8080/"
        },
        "id": "O2rJN0_xnLTs",
        "outputId": "8a7a112e-d709-434e-dbc8-d4d11fd14d79"
      },
      "outputs": [
        {
          "name": "stdout",
          "output_type": "stream",
          "text": [
            "['what', 'is', 'vpn']\n",
            "Found in bag: what\n",
            "Found in bag: is\n",
            "Found in bag: vpn\n",
            "118\n"
          ]
        },
        {
          "data": {
            "text/plain": [
              "array([0, 0, 0, 0, 0, 0, 0, 0, 0, 0, 0, 0, 0, 0, 0, 0, 0, 0, 0, 0, 0, 0,\n",
              "       0, 0, 0, 0, 0, 0, 0, 0, 0, 0, 0, 0, 0, 0, 0, 0, 0, 0, 0, 0, 0, 0,\n",
              "       0, 0, 0, 0, 0, 0, 0, 0, 0, 0, 0, 0, 0, 0, 0, 0, 0, 0, 0, 0, 0, 1,\n",
              "       0, 0, 0, 0, 0, 0, 0, 0, 0, 0, 0, 0, 0, 0, 0, 0, 0, 0, 0, 0, 0, 0,\n",
              "       0, 0, 0, 0, 0, 0, 0, 0, 0, 0, 0, 0, 0, 0, 0, 1, 0, 0, 0, 1, 0, 0,\n",
              "       0, 0, 0, 0, 0, 0, 0, 0])"
            ]
          },
          "execution_count": 36,
          "metadata": {},
          "output_type": "execute_result"
        }
      ],
      "source": [
        "temp = \"What is VPN\"\n",
        "newtemp = clean_up_sentence(temp)\n",
        "print(newtemp)\n",
        "bow(temp,words,True)\n",
        "\n"
      ]
    }
  ],
  "metadata": {
    "colab": {
      "provenance": []
    },
    "kernelspec": {
      "display_name": "Python 3",
      "language": "python",
      "name": "python3"
    },
    "language_info": {
      "codemirror_mode": {
        "name": "ipython",
        "version": 3
      },
      "file_extension": ".py",
      "mimetype": "text/x-python",
      "name": "python",
      "nbconvert_exporter": "python",
      "pygments_lexer": "ipython3",
      "version": "3.10.4"
    },
    "vscode": {
      "interpreter": {
        "hash": "f4c52136d4c09a59d113c82bdeff831fbd642465172fef627bb414c611cec522"
      }
    }
  },
  "nbformat": 4,
  "nbformat_minor": 0
}
